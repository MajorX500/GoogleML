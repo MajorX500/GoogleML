{
  "nbformat": 4,
  "nbformat_minor": 0,
  "metadata": {
    "colab": {
      "name": "Re-Color.ipynb",
      "provenance": [],
      "collapsed_sections": [],
      "authorship_tag": "ABX9TyMTxhvGfEqL82eVxPwtAt90",
      "include_colab_link": true
    },
    "kernelspec": {
      "name": "python3",
      "display_name": "Python 3"
    },
    "accelerator": "GPU"
  },
  "cells": [
    {
      "cell_type": "markdown",
      "metadata": {
        "id": "view-in-github",
        "colab_type": "text"
      },
      "source": [
        "<a href=\"https://colab.research.google.com/github/MajorX500/GoogleML/blob/master/Re_Color.ipynb\" target=\"_parent\"><img src=\"https://colab.research.google.com/assets/colab-badge.svg\" alt=\"Open In Colab\"/></a>"
      ]
    },
    {
      "cell_type": "code",
      "metadata": {
        "id": "L_C7o16OT2Nd",
        "colab_type": "code",
        "colab": {}
      },
      "source": [
        "!git clone https://github.com/jantic/DeOldify.git DeOldify "
      ],
      "execution_count": 0,
      "outputs": []
    },
    {
      "cell_type": "code",
      "metadata": {
        "id": "cdD5FU2RUAo8",
        "colab_type": "code",
        "colab": {}
      },
      "source": [
        "cd DeOldify/"
      ],
      "execution_count": 0,
      "outputs": []
    },
    {
      "cell_type": "code",
      "metadata": {
        "id": "vP7AvC1CUJMl",
        "colab_type": "code",
        "colab": {}
      },
      "source": [
        "!pip install -r colab_requirements.txt"
      ],
      "execution_count": 0,
      "outputs": []
    },
    {
      "cell_type": "code",
      "metadata": {
        "id": "124GEiWKUSpE",
        "colab_type": "code",
        "colab": {}
      },
      "source": [
        "import fastai\n",
        "from deoldify.visualize import *\n",
        "\n",
        "torch.backends.cudnn.benchmark = True\n"
      ],
      "execution_count": 0,
      "outputs": []
    },
    {
      "cell_type": "code",
      "metadata": {
        "id": "zc21QBXtPkyD",
        "colab_type": "code",
        "colab": {}
      },
      "source": [
        "!mkdir 'models'\n",
        "!wget https://www.dropbox.com/s/zkehq1uwahhbc2o/ColorizeArtistic_gen.pth?dl=0 -O ./models/ColorizeArtistic_gen.pth"
      ],
      "execution_count": 0,
      "outputs": []
    },
    {
      "cell_type": "code",
      "metadata": {
        "colab_type": "code",
        "id": "tzHVnegp21hC",
        "colab": {}
      },
      "source": [
        "colorizer = get_image_colorizer(artistic=True)"
      ],
      "execution_count": 0,
      "outputs": []
    },
    {
      "cell_type": "code",
      "metadata": {
        "id": "8ginZ391PkyW",
        "colab_type": "code",
        "colab": {}
      },
      "source": [
        "source_url = 'sc' #@param {type:\"string\"}\n",
        "render_factor = 35  #@param {type: \"slider\", min: 7, max: 45}\n",
        "\n",
        "if source_url is not None and source_url !='':\n",
        "    image_path = colorizer.plot_transformed_image_from_url(url=source_url, render_factor=render_factor, compare=True)\n",
        "    show_image_in_notebook(image_path)\n",
        "else:\n",
        "    print('Provide an image url and try again.')"
      ],
      "execution_count": 0,
      "outputs": []
    }
  ]
}